{
 "cells": [
  {
   "cell_type": "code",
   "execution_count": 174,
   "metadata": {},
   "outputs": [],
   "source": [
    "import pandas as pd\n",
    "import numpy as np\n",
    "import matplotlib.pyplot as plt\n",
    "import seaborn as sns\n",
    "from sklearn.model_selection import train_test_split\n",
    "import optuna\n",
    "import sklearn"
   ]
  },
  {
   "cell_type": "code",
   "execution_count": 2,
   "metadata": {},
   "outputs": [],
   "source": [
    "import xgboost as xgb"
   ]
  },
  {
   "cell_type": "code",
   "execution_count": 48,
   "metadata": {},
   "outputs": [],
   "source": [
    "sns.set_theme(style=\"ticks\", palette=\"pastel\")"
   ]
  },
  {
   "cell_type": "code",
   "execution_count": 11,
   "metadata": {},
   "outputs": [],
   "source": [
    "data2 = pd.read_csv(\"D:\\data_set.csv\",engine = \"python\")"
   ]
  },
  {
   "cell_type": "code",
   "execution_count": 12,
   "metadata": {},
   "outputs": [
    {
     "data": {
      "text/html": [
       "<div>\n",
       "<style scoped>\n",
       "    .dataframe tbody tr th:only-of-type {\n",
       "        vertical-align: middle;\n",
       "    }\n",
       "\n",
       "    .dataframe tbody tr th {\n",
       "        vertical-align: top;\n",
       "    }\n",
       "\n",
       "    .dataframe thead th {\n",
       "        text-align: right;\n",
       "    }\n",
       "</style>\n",
       "<table border=\"1\" class=\"dataframe\">\n",
       "  <thead>\n",
       "    <tr style=\"text-align: right;\">\n",
       "      <th></th>\n",
       "      <th>Unnamed: 0</th>\n",
       "      <th>price</th>\n",
       "      <th>year</th>\n",
       "      <th>manufacturer</th>\n",
       "      <th>model</th>\n",
       "      <th>condition</th>\n",
       "      <th>cylinders</th>\n",
       "      <th>fuel</th>\n",
       "      <th>odometer</th>\n",
       "      <th>title_status</th>\n",
       "      <th>transmission</th>\n",
       "      <th>drive</th>\n",
       "      <th>size</th>\n",
       "      <th>type</th>\n",
       "      <th>new_condition</th>\n",
       "    </tr>\n",
       "  </thead>\n",
       "  <tbody>\n",
       "    <tr>\n",
       "      <th>0</th>\n",
       "      <td>0</td>\n",
       "      <td>11555</td>\n",
       "      <td>2008</td>\n",
       "      <td>gmc</td>\n",
       "      <td>sierra 1500 extended cab</td>\n",
       "      <td>NaN</td>\n",
       "      <td>6 cylinders</td>\n",
       "      <td>gas</td>\n",
       "      <td>196372</td>\n",
       "      <td>clean</td>\n",
       "      <td>automatic</td>\n",
       "      <td>NaN</td>\n",
       "      <td>NaN</td>\n",
       "      <td>pickup</td>\n",
       "      <td>excellent</td>\n",
       "    </tr>\n",
       "    <tr>\n",
       "      <th>1</th>\n",
       "      <td>1</td>\n",
       "      <td>19995</td>\n",
       "      <td>2018</td>\n",
       "      <td>bmw</td>\n",
       "      <td>3 series</td>\n",
       "      <td>NaN</td>\n",
       "      <td>NaN</td>\n",
       "      <td>gas</td>\n",
       "      <td>31727</td>\n",
       "      <td>clean</td>\n",
       "      <td>automatic</td>\n",
       "      <td>NaN</td>\n",
       "      <td>NaN</td>\n",
       "      <td>NaN</td>\n",
       "      <td>good</td>\n",
       "    </tr>\n",
       "    <tr>\n",
       "      <th>2</th>\n",
       "      <td>2</td>\n",
       "      <td>12899</td>\n",
       "      <td>2013</td>\n",
       "      <td>honda</td>\n",
       "      <td>cr-v</td>\n",
       "      <td>NaN</td>\n",
       "      <td>4 cylinders</td>\n",
       "      <td>gas</td>\n",
       "      <td>97850</td>\n",
       "      <td>clean</td>\n",
       "      <td>automatic</td>\n",
       "      <td>NaN</td>\n",
       "      <td>NaN</td>\n",
       "      <td>SUV</td>\n",
       "      <td>good</td>\n",
       "    </tr>\n",
       "    <tr>\n",
       "      <th>3</th>\n",
       "      <td>3</td>\n",
       "      <td>16999</td>\n",
       "      <td>2010</td>\n",
       "      <td>ford</td>\n",
       "      <td>expedition</td>\n",
       "      <td>NaN</td>\n",
       "      <td>NaN</td>\n",
       "      <td>gas</td>\n",
       "      <td>128284</td>\n",
       "      <td>clean</td>\n",
       "      <td>automatic</td>\n",
       "      <td>4wd</td>\n",
       "      <td>NaN</td>\n",
       "      <td>NaN</td>\n",
       "      <td>good</td>\n",
       "    </tr>\n",
       "    <tr>\n",
       "      <th>4</th>\n",
       "      <td>4</td>\n",
       "      <td>16995</td>\n",
       "      <td>2013</td>\n",
       "      <td>bmw</td>\n",
       "      <td>3 series</td>\n",
       "      <td>NaN</td>\n",
       "      <td>6 cylinders</td>\n",
       "      <td>gas</td>\n",
       "      <td>103690</td>\n",
       "      <td>clean</td>\n",
       "      <td>automatic</td>\n",
       "      <td>4wd</td>\n",
       "      <td>NaN</td>\n",
       "      <td>NaN</td>\n",
       "      <td>good</td>\n",
       "    </tr>\n",
       "  </tbody>\n",
       "</table>\n",
       "</div>"
      ],
      "text/plain": [
       "   Unnamed: 0  price  year manufacturer                     model condition  \\\n",
       "0           0  11555  2008          gmc  sierra 1500 extended cab       NaN   \n",
       "1           1  19995  2018          bmw                  3 series       NaN   \n",
       "2           2  12899  2013        honda                      cr-v       NaN   \n",
       "3           3  16999  2010         ford                expedition       NaN   \n",
       "4           4  16995  2013          bmw                  3 series       NaN   \n",
       "\n",
       "     cylinders fuel odometer title_status transmission drive size    type  \\\n",
       "0  6 cylinders  gas   196372        clean    automatic   NaN  NaN  pickup   \n",
       "1          NaN  gas    31727        clean    automatic   NaN  NaN     NaN   \n",
       "2  4 cylinders  gas    97850        clean    automatic   NaN  NaN     SUV   \n",
       "3          NaN  gas   128284        clean    automatic   4wd  NaN     NaN   \n",
       "4  6 cylinders  gas   103690        clean    automatic   4wd  NaN     NaN   \n",
       "\n",
       "  new_condition  \n",
       "0     excellent  \n",
       "1          good  \n",
       "2          good  \n",
       "3          good  \n",
       "4          good  "
      ]
     },
     "execution_count": 12,
     "metadata": {},
     "output_type": "execute_result"
    }
   ],
   "source": [
    "data2.head()"
   ]
  },
  {
   "cell_type": "code",
   "execution_count": 103,
   "metadata": {},
   "outputs": [
    {
     "name": "stdout",
     "output_type": "stream",
     "text": [
      "<class 'pandas.core.frame.DataFrame'>\n",
      "Int64Index: 241520 entries, 0 to 245284\n",
      "Data columns (total 15 columns):\n",
      " #   Column         Non-Null Count   Dtype \n",
      "---  ------         --------------   ----- \n",
      " 0   Unnamed: 0     241520 non-null  int64 \n",
      " 1   price          241520 non-null  int64 \n",
      " 2   year           241520 non-null  int64 \n",
      " 3   manufacturer   241520 non-null  object\n",
      " 4   model          239175 non-null  object\n",
      " 5   condition      148720 non-null  object\n",
      " 6   cylinders      143223 non-null  object\n",
      " 7   fuel           240503 non-null  object\n",
      " 8   odometer       241520 non-null  int32 \n",
      " 9   title_status   241520 non-null  object\n",
      " 10  transmission   240576 non-null  object\n",
      " 11  drive          170813 non-null  object\n",
      " 12  size           67917 non-null   object\n",
      " 13  type           191701 non-null  object\n",
      " 14  new_condition  241520 non-null  object\n",
      "dtypes: int32(1), int64(3), object(11)\n",
      "memory usage: 38.6+ MB\n"
     ]
    }
   ],
   "source": [
    "data2.info()"
   ]
  },
  {
   "cell_type": "markdown",
   "metadata": {},
   "source": [
    "# 데이터 전처리\n",
    "- 제조사 상위 30개\n",
    "- year 결측치 제거\n",
    "- price 8만달러 이상 제거\n",
    "- year 1980년까지\n",
    "- title_status에서 part only는 버리기 / title_status 결측치\n",
    "- odometer - 1,000,000km 위로는 버립시당  \n",
    "    odometer의 결측치  \n",
    "    odometer에 clean이라는 값  \n",
    "- new_condtion의 결측치 "
   ]
  },
  {
   "cell_type": "code",
   "execution_count": 15,
   "metadata": {},
   "outputs": [],
   "source": [
    "data2 = data2[~data2.year.isna()]"
   ]
  },
  {
   "cell_type": "code",
   "execution_count": 17,
   "metadata": {},
   "outputs": [],
   "source": [
    "data2 = data2[data2.year >= 1980]"
   ]
  },
  {
   "cell_type": "code",
   "execution_count": 41,
   "metadata": {},
   "outputs": [],
   "source": [
    "data2 = data2[data2.title_status != \"parts_only\"]\n",
    "data2 = data2[~data2.isna()]"
   ]
  },
  {
   "cell_type": "code",
   "execution_count": 28,
   "metadata": {},
   "outputs": [],
   "source": [
    "data2 = data2[~data2.odometer.isna()]"
   ]
  },
  {
   "cell_type": "code",
   "execution_count": 37,
   "metadata": {},
   "outputs": [],
   "source": [
    "data2 = data2[~(data2.odometer == \"clean\")]"
   ]
  },
  {
   "cell_type": "code",
   "execution_count": 38,
   "metadata": {},
   "outputs": [],
   "source": [
    "data2.odometer = data2.odometer.astype(int)"
   ]
  },
  {
   "cell_type": "code",
   "execution_count": 40,
   "metadata": {},
   "outputs": [],
   "source": [
    "data2 = data2[data2.odometer < 1000000 ]"
   ]
  },
  {
   "cell_type": "code",
   "execution_count": 44,
   "metadata": {},
   "outputs": [],
   "source": [
    "data2 = data2[~data2.new_condition.isna()]"
   ]
  },
  {
   "cell_type": "code",
   "execution_count": 104,
   "metadata": {},
   "outputs": [
    {
     "name": "stdout",
     "output_type": "stream",
     "text": [
      "<class 'pandas.core.frame.DataFrame'>\n",
      "Int64Index: 241520 entries, 0 to 245284\n",
      "Data columns (total 15 columns):\n",
      " #   Column         Non-Null Count   Dtype \n",
      "---  ------         --------------   ----- \n",
      " 0   Unnamed: 0     241520 non-null  int64 \n",
      " 1   price          241520 non-null  int64 \n",
      " 2   year           241520 non-null  int64 \n",
      " 3   manufacturer   241520 non-null  object\n",
      " 4   model          239175 non-null  object\n",
      " 5   condition      148720 non-null  object\n",
      " 6   cylinders      143223 non-null  object\n",
      " 7   fuel           240503 non-null  object\n",
      " 8   odometer       241520 non-null  int32 \n",
      " 9   title_status   241520 non-null  object\n",
      " 10  transmission   240576 non-null  object\n",
      " 11  drive          170813 non-null  object\n",
      " 12  size           67917 non-null   object\n",
      " 13  type           191701 non-null  object\n",
      " 14  new_condition  241520 non-null  object\n",
      "dtypes: int32(1), int64(3), object(11)\n",
      "memory usage: 38.6+ MB\n"
     ]
    }
   ],
   "source": [
    "data2.info()"
   ]
  },
  {
   "cell_type": "code",
   "execution_count": 45,
   "metadata": {},
   "outputs": [],
   "source": [
    "y = data2.price"
   ]
  },
  {
   "cell_type": "code",
   "execution_count": 114,
   "metadata": {},
   "outputs": [],
   "source": [
    "x = data2[[\"year\",\"odometer\"]]"
   ]
  },
  {
   "cell_type": "code",
   "execution_count": 113,
   "metadata": {},
   "outputs": [],
   "source": [
    "dummies = pd.get_dummies(x[['manufacturer',\"fuel\",\"new_condition\",\"drive\",\"cylinders\",\"size\",\"type\"]], dummy_na=True)"
   ]
  },
  {
   "cell_type": "code",
   "execution_count": 116,
   "metadata": {},
   "outputs": [],
   "source": [
    "x = pd.concat([x,dummies],axis=1)"
   ]
  },
  {
   "cell_type": "code",
   "execution_count": 111,
   "metadata": {},
   "outputs": [
    {
     "data": {
      "text/html": [
       "<div>\n",
       "<style scoped>\n",
       "    .dataframe tbody tr th:only-of-type {\n",
       "        vertical-align: middle;\n",
       "    }\n",
       "\n",
       "    .dataframe tbody tr th {\n",
       "        vertical-align: top;\n",
       "    }\n",
       "\n",
       "    .dataframe thead th {\n",
       "        text-align: right;\n",
       "    }\n",
       "</style>\n",
       "<table border=\"1\" class=\"dataframe\">\n",
       "  <thead>\n",
       "    <tr style=\"text-align: right;\">\n",
       "      <th></th>\n",
       "      <th>year</th>\n",
       "      <th>manufacturer</th>\n",
       "      <th>fuel</th>\n",
       "      <th>odometer</th>\n",
       "      <th>new_condition</th>\n",
       "      <th>drive</th>\n",
       "      <th>cylinders</th>\n",
       "      <th>size</th>\n",
       "      <th>type</th>\n",
       "    </tr>\n",
       "  </thead>\n",
       "  <tbody>\n",
       "    <tr>\n",
       "      <th>0</th>\n",
       "      <td>2008</td>\n",
       "      <td>gmc</td>\n",
       "      <td>gas</td>\n",
       "      <td>196372</td>\n",
       "      <td>excellent</td>\n",
       "      <td>NaN</td>\n",
       "      <td>6 cylinders</td>\n",
       "      <td>NaN</td>\n",
       "      <td>pickup</td>\n",
       "    </tr>\n",
       "    <tr>\n",
       "      <th>1</th>\n",
       "      <td>2018</td>\n",
       "      <td>bmw</td>\n",
       "      <td>gas</td>\n",
       "      <td>31727</td>\n",
       "      <td>good</td>\n",
       "      <td>NaN</td>\n",
       "      <td>NaN</td>\n",
       "      <td>NaN</td>\n",
       "      <td>NaN</td>\n",
       "    </tr>\n",
       "    <tr>\n",
       "      <th>2</th>\n",
       "      <td>2013</td>\n",
       "      <td>honda</td>\n",
       "      <td>gas</td>\n",
       "      <td>97850</td>\n",
       "      <td>good</td>\n",
       "      <td>NaN</td>\n",
       "      <td>4 cylinders</td>\n",
       "      <td>NaN</td>\n",
       "      <td>SUV</td>\n",
       "    </tr>\n",
       "    <tr>\n",
       "      <th>3</th>\n",
       "      <td>2010</td>\n",
       "      <td>ford</td>\n",
       "      <td>gas</td>\n",
       "      <td>128284</td>\n",
       "      <td>good</td>\n",
       "      <td>4wd</td>\n",
       "      <td>NaN</td>\n",
       "      <td>NaN</td>\n",
       "      <td>NaN</td>\n",
       "    </tr>\n",
       "    <tr>\n",
       "      <th>4</th>\n",
       "      <td>2013</td>\n",
       "      <td>bmw</td>\n",
       "      <td>gas</td>\n",
       "      <td>103690</td>\n",
       "      <td>good</td>\n",
       "      <td>4wd</td>\n",
       "      <td>6 cylinders</td>\n",
       "      <td>NaN</td>\n",
       "      <td>NaN</td>\n",
       "    </tr>\n",
       "    <tr>\n",
       "      <th>...</th>\n",
       "      <td>...</td>\n",
       "      <td>...</td>\n",
       "      <td>...</td>\n",
       "      <td>...</td>\n",
       "      <td>...</td>\n",
       "      <td>...</td>\n",
       "      <td>...</td>\n",
       "      <td>...</td>\n",
       "      <td>...</td>\n",
       "    </tr>\n",
       "    <tr>\n",
       "      <th>245280</th>\n",
       "      <td>2015</td>\n",
       "      <td>gmc</td>\n",
       "      <td>gas</td>\n",
       "      <td>35423</td>\n",
       "      <td>good</td>\n",
       "      <td>4wd</td>\n",
       "      <td>8 cylinders</td>\n",
       "      <td>NaN</td>\n",
       "      <td>pickup</td>\n",
       "    </tr>\n",
       "    <tr>\n",
       "      <th>245281</th>\n",
       "      <td>2004</td>\n",
       "      <td>chevrolet</td>\n",
       "      <td>gas</td>\n",
       "      <td>170000</td>\n",
       "      <td>good</td>\n",
       "      <td>NaN</td>\n",
       "      <td>8 cylinders</td>\n",
       "      <td>full-size</td>\n",
       "      <td>truck</td>\n",
       "    </tr>\n",
       "    <tr>\n",
       "      <th>245282</th>\n",
       "      <td>2014</td>\n",
       "      <td>toyota</td>\n",
       "      <td>other</td>\n",
       "      <td>55251</td>\n",
       "      <td>good</td>\n",
       "      <td>NaN</td>\n",
       "      <td>NaN</td>\n",
       "      <td>NaN</td>\n",
       "      <td>pickup</td>\n",
       "    </tr>\n",
       "    <tr>\n",
       "      <th>245283</th>\n",
       "      <td>2011</td>\n",
       "      <td>ford</td>\n",
       "      <td>gas</td>\n",
       "      <td>39325</td>\n",
       "      <td>excellent</td>\n",
       "      <td>4wd</td>\n",
       "      <td>NaN</td>\n",
       "      <td>NaN</td>\n",
       "      <td>NaN</td>\n",
       "    </tr>\n",
       "    <tr>\n",
       "      <th>245284</th>\n",
       "      <td>2011</td>\n",
       "      <td>mazda</td>\n",
       "      <td>gas</td>\n",
       "      <td>162000</td>\n",
       "      <td>excellent</td>\n",
       "      <td>4wd</td>\n",
       "      <td>4 cylinders</td>\n",
       "      <td>mid-size</td>\n",
       "      <td>SUV</td>\n",
       "    </tr>\n",
       "  </tbody>\n",
       "</table>\n",
       "<p>241520 rows × 9 columns</p>\n",
       "</div>"
      ],
      "text/plain": [
       "        year manufacturer   fuel  odometer new_condition drive    cylinders  \\\n",
       "0       2008          gmc    gas    196372     excellent   NaN  6 cylinders   \n",
       "1       2018          bmw    gas     31727          good   NaN          NaN   \n",
       "2       2013        honda    gas     97850          good   NaN  4 cylinders   \n",
       "3       2010         ford    gas    128284          good   4wd          NaN   \n",
       "4       2013          bmw    gas    103690          good   4wd  6 cylinders   \n",
       "...      ...          ...    ...       ...           ...   ...          ...   \n",
       "245280  2015          gmc    gas     35423          good   4wd  8 cylinders   \n",
       "245281  2004    chevrolet    gas    170000          good   NaN  8 cylinders   \n",
       "245282  2014       toyota  other     55251          good   NaN          NaN   \n",
       "245283  2011         ford    gas     39325     excellent   4wd          NaN   \n",
       "245284  2011        mazda    gas    162000     excellent   4wd  4 cylinders   \n",
       "\n",
       "             size    type  \n",
       "0             NaN  pickup  \n",
       "1             NaN     NaN  \n",
       "2             NaN     SUV  \n",
       "3             NaN     NaN  \n",
       "4             NaN     NaN  \n",
       "...           ...     ...  \n",
       "245280        NaN  pickup  \n",
       "245281  full-size   truck  \n",
       "245282        NaN  pickup  \n",
       "245283        NaN     NaN  \n",
       "245284   mid-size     SUV  \n",
       "\n",
       "[241520 rows x 9 columns]"
      ]
     },
     "execution_count": 111,
     "metadata": {},
     "output_type": "execute_result"
    }
   ],
   "source": [
    "x"
   ]
  },
  {
   "cell_type": "code",
   "execution_count": 118,
   "metadata": {},
   "outputs": [],
   "source": [
    "train_x,test_x,train_y,test_y = train_test_split(x,y,random_state=1234)"
   ]
  },
  {
   "cell_type": "code",
   "execution_count": 119,
   "metadata": {},
   "outputs": [
    {
     "data": {
      "text/plain": [
       "108220     1000\n",
       "107217    31900\n",
       "209144    48900\n",
       "102840     5000\n",
       "71672      9995\n",
       "          ...  \n",
       "61388     54999\n",
       "239312    11999\n",
       "82304     18089\n",
       "194075     2800\n",
       "69648     39995\n",
       "Name: price, Length: 60380, dtype: int64"
      ]
     },
     "execution_count": 119,
     "metadata": {},
     "output_type": "execute_result"
    }
   ],
   "source": [
    "test_y"
   ]
  },
  {
   "cell_type": "code",
   "execution_count": 183,
   "metadata": {},
   "outputs": [
    {
     "data": {
      "text/plain": [
       "0.816137983233932"
      ]
     },
     "execution_count": 183,
     "metadata": {},
     "output_type": "execute_result"
    }
   ],
   "source": [
    "xgbc = xgb.XGBRegressor()\n",
    "\n",
    "xgbc.fit(train_x,train_y)\n",
    "xgbc.score(test_x,test_y)"
   ]
  },
  {
   "cell_type": "code",
   "execution_count": 208,
   "metadata": {},
   "outputs": [],
   "source": [
    "splitter = KFold(n_splits=5, shuffle=True, random_state=42)\n",
    "score = cross_val_score(xgbc, x, y, n_jobs=-1, cv=splitter)"
   ]
  },
  {
   "cell_type": "code",
   "execution_count": 209,
   "metadata": {},
   "outputs": [
    {
     "data": {
      "text/plain": [
       "0.8151228649426716"
      ]
     },
     "execution_count": 209,
     "metadata": {},
     "output_type": "execute_result"
    }
   ],
   "source": [
    "score.mean()"
   ]
  },
  {
   "cell_type": "code",
   "execution_count": 210,
   "metadata": {},
   "outputs": [
    {
     "data": {
      "text/plain": [
       "0.816137983233932"
      ]
     },
     "execution_count": 210,
     "metadata": {},
     "output_type": "execute_result"
    }
   ],
   "source": [
    "xgbc.score(test_x,test_y)"
   ]
  },
  {
   "cell_type": "code",
   "execution_count": 211,
   "metadata": {},
   "outputs": [],
   "source": [
    "importance = pd.DataFrame({\"feature\" : xgbc.feature_names_in_,'imp':xgbc.feature_importances_})"
   ]
  },
  {
   "cell_type": "code",
   "execution_count": 212,
   "metadata": {},
   "outputs": [
    {
     "data": {
      "image/png": "[encoded data removed]",
      "text/plain": [
       "<Figure size 1440x1080 with 1 Axes>"
      ]
     },
     "metadata": {},
     "output_type": "display_data"
    }
   ],
   "source": [
    "plt.figure(figsize=(20,15))\n",
    "sns.barplot(data = importance.sort_values(ascending=False,by=\"imp\")[0:21],x=\"feature\", y= \"imp\")\n",
    "plt.xticks(rotation=45)\n",
    "plt.show()"
   ]
  },
  {
   "cell_type": "code",
   "execution_count": null,
   "metadata": {},
   "outputs": [
    {
     "name": "stderr",
     "output_type": "stream",
     "text": [
      "\u001b[32m[I 2022-07-31 14:11:31,596]\u001b[0m A new study created in memory with name: no-name-e3689080-dc01-4464-9190-c32dcc072b2c\u001b[0m\n",
      "\u001b[33m[W 2022-07-31 14:11:38,954]\u001b[0m Trial 0 failed, because the objective function returned nan.\u001b[0m\n"
     ]
    }
   ],
   "source": [
    "def objective(trial):\n",
    "\n",
    "\n",
    "    xgb_n_estimators = trial.suggest_int(\"xgb_n_estimators\", 10, 250)\n",
    "    xgb_learning_rate = trial.suggest_float(\"xgb_learning_rate\", 0.1, 0.9, step =0.2)\n",
    "    xgb_max_depth = trial.suggest_int(\"xgb_max_depth\",1,5)\n",
    "\n",
    "    classifier_obj = xgb.XGBRegressor(\n",
    "        max_depth = xgb_max_depth,\n",
    "        n_estimators = xgb_n_estimators,\n",
    "        learning_rate = xgb_learning_ddrate,\n",
    "        early_stopping_rounds = 50\n",
    "    )\n",
    "\n",
    "    splitter = KFold(n_splits=5, shuffle=True, random_state=42)\n",
    "    score = cross_val_score(classifier_obj, x, y, n_jobs=-1, cv=splitter)\n",
    "    accuracy = score.mean()\n",
    "    return accuracy\n",
    "\n",
    "study = optuna.create_study(direction=\"maximize\")\n",
    "study.optimize(objective, n_trials=10)"
   ]
  },
  {
   "cell_type": "code",
   "execution_count": 168,
   "metadata": {},
   "outputs": [],
   "source": [
    "from sklearn.model_selection import KFold\n",
    "from sklearn.model_selection import cross_validate,cross_val_score"
   ]
  },
  {
   "cell_type": "code",
   "execution_count": 194,
   "metadata": {},
   "outputs": [],
   "source": [
    "from sklearn.ensemble import RandomForestRegressor"
   ]
  },
  {
   "cell_type": "code",
   "execution_count": 195,
   "metadata": {},
   "outputs": [
    {
     "data": {
      "text/plain": [
       "0.9815875280468965"
      ]
     },
     "execution_count": 195,
     "metadata": {},
     "output_type": "execute_result"
    }
   ],
   "source": [
    "rfg = RandomForestRegressor()\n",
    "rfg.fit(train_x,train_y)\n",
    "rfg.score(test_x,test_y)"
   ]
  },
  {
   "cell_type": "code",
   "execution_count": 196,
   "metadata": {},
   "outputs": [],
   "source": [
    "splitter = KFold(n_splits=5, shuffle=True, random_state=42)\n",
    "score = cross_val_score(rfg, x, y, n_jobs=-1, cv=splitter)"
   ]
  },
  {
   "cell_type": "code",
   "execution_count": 198,
   "metadata": {},
   "outputs": [
    {
     "data": {
      "text/plain": [
       "0.8749762886419093"
      ]
     },
     "execution_count": 198,
     "metadata": {},
     "output_type": "execute_result"
    }
   ],
   "source": [
    "score.mean()"
   ]
  },
  {
   "cell_type": "code",
   "execution_count": 199,
   "metadata": {},
   "outputs": [
    {
     "data": {
      "text/plain": [
       "0.8712585890442146"
      ]
     },
     "execution_count": 199,
     "metadata": {},
     "output_type": "execute_result"
    }
   ],
   "source": [
    "rfg.score(test_x,test_y)"
   ]
  },
  {
   "cell_type": "code",
   "execution_count": 202,
   "metadata": {},
   "outputs": [],
   "source": [
    "importance = pd.DataFrame({\"feature\" : x.columns,'imp':rfg.feature_importances_})"
   ]
  },
  {
   "cell_type": "code",
   "execution_count": 205,
   "metadata": {},
   "outputs": [
    {
     "data": {
      "image/png": "[encoded data removed]",
      "text/plain": [
       "<Figure size 1440x1080 with 1 Axes>"
      ]
     },
     "metadata": {},
     "output_type": "display_data"
    }
   ],
   "source": [
    "plt.figure(figsize=(20,15))\n",
    "sns.barplot(data = importance.sort_values(ascending=False,by=\"imp\")[0:21],x=\"feature\", y= \"imp\")\n",
    "plt.xticks(rotation=45)\n",
    "plt.show()"
   ]
  },
  {
   "cell_type": "code",
   "execution_count": 214,
   "metadata": {},
   "outputs": [],
   "source": [
    "final_data = pd.concat([x,y],axis=1)"
   ]
  },
  {
   "cell_type": "code",
   "execution_count": 216,
   "metadata": {},
   "outputs": [],
   "source": [
    "final_data.to_csv(\"final_data.csv\")"
   ]
  }
 ],
 "metadata": {
  "kernelspec": {
   "display_name": "Python 3",
   "language": "python",
   "name": "python3"
  },
  "language_info": {
   "codemirror_mode": {
    "name": "ipython",
    "version": 3
   },
   "file_extension": ".py",
   "mimetype": "text/x-python",
   "name": "python",
   "nbconvert_exporter": "python",
   "pygments_lexer": "ipython3",
   "version": "3.8.5"
  }
 },
 "nbformat": 4,
 "nbformat_minor": 4
}
